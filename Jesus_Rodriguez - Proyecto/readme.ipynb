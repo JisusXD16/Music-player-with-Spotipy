{
 "cells": [
  {
   "cell_type": "markdown",
   "metadata": {},
   "source": [
    "# INFO"
   ]
  },
  {
   "cell_type": "markdown",
   "metadata": {},
   "source": [
    "## Recursos y herramientas necesarias:\n",
    "- Spotipy: Es la API principal del programa, esta se encarga de extraer datos de Spotify como: Nombres de artistas, nombres de cancione, enlaces de cancions etc...\n",
    "- pyautogui: Esta API solo se usa para presionar **enter** dentro de Spotify para asi reproducir las canciones automaticamentes\n",
    "- matplotlib: Con esta libreria se podra mostrar el grafico de datos\n",
    "- Y por ultimo se necesita que la aplicacion de Spotify se encuentre instalada en el equipo para poder reproducir canciones\n",
    "  "
   ]
  },
  {
   "cell_type": "markdown",
   "metadata": {},
   "source": [
    "## Instalacion de recursos necesarios:\n",
    "- Spotipy: API principal para el funcionamiento de la aplicacion.\n",
    "    - instalacion: **pip install spotipy**\n",
    "- pyautogui: API que ayuda a reproducir automaticamente las canciones.\n",
    "    - instalacion: **pip install pyautogui**\n",
    "- Spotify:\n",
    "    - Link Web: https://open.spotify.com/download"
   ]
  },
  {
   "cell_type": "markdown",
   "metadata": {},
   "source": [
    "## Detalles Del Proyecto\n",
    "- Programacion Modular\n",
    "- Programacion Orientada a Objetos **(POO)**\n",
    "- Uso De Archivos **(.txt)** o **(.json)**\n",
    "- Uso de la libreria matplotlib\n",
    "- Uso de tkinter para la interfaz grafica"
   ]
  },
  {
   "cell_type": "markdown",
   "metadata": {},
   "source": [
    "## Estructura del Proyecto\n",
    "- **ScriptPrincipal.py**: Es el archivo principal desde el cual se ejecuta todo el programa.\n",
    "- **data.py**: Modulo desde el cual se realiza la busqueda de las canciones.\n",
    "- **fav.py**: Modulo para añadir canciones a la lista de favoritos.\n",
    "- **graphics.py**: Modulo que ejecuta y muestra una grafica de barras que representa la cantidad de busquedas y reproducciones que hizo el usuario.\n",
    "- **gui.py**: Modulo donde esta todo el codigo de la interfaz grafica.\n",
    "- **open.py**: Modulo para reproducir las canciones.\n"
   ]
  },
  {
   "cell_type": "markdown",
   "metadata": {},
   "source": [
    "## Creditos:\n",
    "Spotipy:\n",
    "    \n",
    "https://spotipy.readthedocs.io/en/2.24.0/ \n",
    "    \n",
    "https://github.com/spotipy-dev/spotipy \n",
    "\n",
    "pyautogui:\n",
    "    \n",
    "https://pyautogui.readthedocs.io/en/latest/ "
   ]
  },
  {
   "cell_type": "markdown",
   "metadata": {},
   "source": [
    "## Extra\n",
    "Realizado por **Jesus Rodriguez** para el proyecto final del curso de **Algoritmica y programacion en Python**\n",
    "\n",
    "github = https://github.com/JisusXD16"
   ]
  }
 ],
 "metadata": {
  "language_info": {
   "name": "python"
  },
  "orig_nbformat": 4
 },
 "nbformat": 4,
 "nbformat_minor": 2
}
