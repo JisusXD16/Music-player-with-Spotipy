{
 "cells": [
  {
   "cell_type": "code",
   "execution_count": null,
   "metadata": {},
   "outputs": [],
   "source": [
    "https://slidesgo.com/es/tema/pitch-deck-para-una-app-de-musica-con-diseno-de-interfaz#search-Spotify&position-1&results-21&rs=search"
   ]
  },
  {
   "cell_type": "code",
   "execution_count": null,
   "metadata": {},
   "outputs": [],
   "source": [
    "https://slidesgo.com/es/tema/agencia-de-musica-futurista#search-Music&position-23&results-427&rs=search"
   ]
  }
 ],
 "metadata": {
  "language_info": {
   "name": "python"
  },
  "orig_nbformat": 4
 },
 "nbformat": 4,
 "nbformat_minor": 2
}
