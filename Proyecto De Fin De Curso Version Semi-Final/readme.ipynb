{
 "cells": [
  {
   "cell_type": "markdown",
   "metadata": {},
   "source": [
    "# INFO"
   ]
  },
  {
   "cell_type": "markdown",
   "metadata": {},
   "source": [
    "## Recursos y herramientas necesarias:\n",
    "- Spotipy: Es la API principal del programa, esta se encarga de extraer datos de Spotify como: Nombres de artistas, nombres de cancione, enlaces de cancions etc...\n",
    "- pyautogui: Esta API solo se usa para presionar **enter** dentro de Spotify para asi reproducir las canciones automaticamentes\n",
    "- Y por ultimo se necesita que la aplicacion de Spotify se encuentre instalada en el equipo para poder reproducir canciones"
   ]
  },
  {
   "cell_type": "markdown",
   "metadata": {},
   "source": [
    "## Instalacion de recursos necesarios:\n",
    "- Spotipy: API principal para el funcionamiento de la aplicacion.\n",
    "    - instalacion: **pip install spotipy**\n",
    "- pyautogui: API que ayuda a reproducir automaticamente las canciones.\n",
    "    - instalacion: **pip install pyautogui**\n",
    "- Spotify:\n",
    "    - Link Web: https://open.spotify.com/download"
   ]
  },
  {
   "cell_type": "markdown",
   "metadata": {},
   "source": [
    "## Creditos:\n",
    "Spotipy:\n",
    "    \n",
    "https://spotipy.readthedocs.io/en/2.24.0/ \n",
    "    \n",
    "https://github.com/spotipy-dev/spotipy \n",
    "\n",
    "pyautogui:\n",
    "    \n",
    "https://pyautogui.readthedocs.io/en/latest/ "
   ]
  }
 ],
 "metadata": {
  "language_info": {
   "name": "python"
  },
  "orig_nbformat": 4
 },
 "nbformat": 4,
 "nbformat_minor": 2
}
